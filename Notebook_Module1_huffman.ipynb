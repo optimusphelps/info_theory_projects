{
 "cells": [
  {
   "cell_type": "markdown",
   "metadata": {},
   "source": [
    "## MSOL ECE 231A : Data Compression Project Module 1\n",
    "\n",
    "Please follow our instructions in the same order and print out the entire results and codes when completed."
   ]
  },
  {
   "cell_type": "code",
   "execution_count": 1,
   "metadata": {},
   "outputs": [],
   "source": [
    "import numpy as np\n",
    "import matplotlib.pyplot as plt\n",
    "import csv\n",
    "from collections import Counter"
   ]
  },
  {
   "cell_type": "code",
   "execution_count": 3,
   "metadata": {},
   "outputs": [],
   "source": [
    "##########################################################################################\n",
    "# Read Text file\n",
    "##########################################################################################\n",
    "f = open(\"toy_example.txt\", \"r\")\n",
    "text = f.read()"
   ]
  },
  {
   "cell_type": "code",
   "execution_count": 5,
   "metadata": {},
   "outputs": [
    {
     "data": {
      "text/plain": [
       "'DACDDBCD'"
      ]
     },
     "execution_count": 5,
     "metadata": {},
     "output_type": "execute_result"
    }
   ],
   "source": [
    "text"
   ]
  },
  {
   "cell_type": "code",
   "execution_count": 10,
   "metadata": {},
   "outputs": [
    {
     "name": "stdout",
     "output_type": "stream",
     "text": [
      "DACDDBCD\n",
      "[('D', 0.5), ('A', 0.125), ('C', 0.25), ('B', 0.125)]\n"
     ]
    }
   ],
   "source": [
    "##########################################################################################\n",
    "# Compute the empirical distribution\n",
    "##########################################################################################\n",
    "def compute_distribution(text):\n",
    "    \"\"\"\n",
    "    Inputs:\n",
    "    - text: A string containing the text to be encoded.\n",
    "    \n",
    "    Returns:\n",
    "    - symbols: a list of tuples of the form (char,prob), where char is a character appears in the text \n",
    "               and prob is the number of times this character appeared in text divided by the length of text.\n",
    "    \"\"\"\n",
    "    # ================================================================ #\n",
    "    # YOUR CODE HERE:\n",
    "    # ================================================================ #\n",
    "    counts = Counter(text)\n",
    "    n_chars = sum(counts.values())\n",
    "    symbols = [\n",
    "        (key, value / n_chars)\n",
    "        for key, value \n",
    "        in counts.items()\n",
    "    ]\n",
    "    # ================================================================ #\n",
    "    # END YOUR CODE HERE\n",
    "    # ================================================================ #  \n",
    "    return symbols\n",
    "\n",
    "symbols = compute_distribution(text)\n",
    "size_symbols = len(symbols)\n",
    "print(text)\n",
    "print(symbols)\n"
   ]
  },
  {
   "cell_type": "markdown",
   "metadata": {},
   "source": [
    "## Part 1: Binary Huffman Codes"
   ]
  },
  {
   "cell_type": "code",
   "execution_count": 25,
   "metadata": {},
   "outputs": [
    {
     "name": "stdout",
     "output_type": "stream",
     "text": [
      "[[(('D', ('C', ('B', 'A'))), 1.0)], [(('C', ('B', 'A')), 0.5), ('D', 0.5)], [(('B', 'A'), 0.25), ('C', 0.25), ('D', 0.5)], [('A', 0.125), ('B', 0.125), ('C', 0.25), ('D', 0.5)]]\n",
      "('D', ('C', ('B', 'A')))\n"
     ]
    }
   ],
   "source": [
    "########################################################################################\n",
    "# Draw the tree for the Huffman code \n",
    "########################################################################################\n",
    "def Huffman_tree(symbols):\n",
    "    \"\"\"\n",
    "    Inputs:\n",
    "    - symbols: a list of tuples of the form (char,prob), where char is a character appears in the text \n",
    "               and prob is the number of times this character appeared in text divided by the length of text.\n",
    "    \n",
    "    Returns:\n",
    "    - tree: a list of a single element that have probability one. at each iteration sort your list according \n",
    "            to their probabilities and combine the first two elements as a single element  \n",
    "    \"\"\"\n",
    "    # ================================================================ #\n",
    "    # YOUR CODE HERE:\n",
    "    # ================================================================ #\n",
    "    def merge_chars(a, b):\n",
    "        '''merge two (seq, prob) tuples'''\n",
    "        return ((b[0],a[0]), a[1]+b[1])\n",
    "\n",
    "    def tree_step(symbols):\n",
    "        '''perform one step of huffman tree building by merging two lowest-probability chars'''\n",
    "        symbols = symbols.copy()\n",
    "        symbols.sort(key=lambda x: x[1])\n",
    "        out = [merge_chars(*symbols[:2]), *symbols[2:]]\n",
    "        return out\n",
    "\n",
    "    tree = symbols\n",
    "    steps = [symbols]\n",
    "    while len(tree) > 1:\n",
    "        tree = tree_step(tree)\n",
    "        steps.insert(0, tree)\n",
    "\n",
    "    print(steps)\n",
    "        \n",
    "    # ================================================================ #\n",
    "    # END YOUR CODE HERE\n",
    "    # ================================================================ #\n",
    "    return tree\n",
    "\n",
    "tree = Huffman_tree(symbols)   \n",
    "print(tree[0][0])"
   ]
  },
  {
   "cell_type": "code",
   "execution_count": 26,
   "metadata": {},
   "outputs": [
    {
     "name": "stdout",
     "output_type": "stream",
     "text": [
      "Huffman CodeBook:   {'D': '0', 'C': '10', 'B': '110', 'A': '111'}\n"
     ]
    }
   ],
   "source": [
    "#######################################################################################\n",
    "#Encode the Huffman Tree\n",
    "#######################################################################################\n",
    "def Huffman_coding(seq, code=''):\n",
    "    \"\"\"\n",
    "    Inputs:\n",
    "    - seq: a tuple of characters.\n",
    "    - code: the code of this tuple\n",
    "    Returns:\n",
    "    - Dictionary: a dictionary containing the Huffman codes.  \n",
    "    \"\"\"\n",
    "    if type(seq) is str:\n",
    "        return {seq : code}\n",
    "    Dictionary = dict()\n",
    "    # ================================================================ #\n",
    "    # YOUR CODE HERE:\n",
    "    # ================================================================ #\n",
    "    l_node = Huffman_coding(seq[0], code=code+'0')\n",
    "    r_node = Huffman_coding(seq[1], code=code+'1')\n",
    "    Dictionary = {**l_node, **r_node}\n",
    "\n",
    "    # ================================================================ #\n",
    "    # END YOUR CODE HERE\n",
    "    # ================================================================ #\n",
    "    return Dictionary\n",
    "\n",
    "Huffman_code = Huffman_coding(tree[0][0])\n",
    "print(\"Huffman CodeBook:  \", Huffman_code)"
   ]
  },
  {
   "cell_type": "code",
   "execution_count": 28,
   "metadata": {},
   "outputs": [
    {
     "name": "stdout",
     "output_type": "stream",
     "text": [
      "Expected length of Huffman code:    1.75\n"
     ]
    }
   ],
   "source": [
    "#######################################################################################\n",
    "# Compute the expected length of the Huffman code\n",
    "#######################################################################################\n",
    "def compute_expected_length(symbols, Huffman_code):\n",
    "    \"\"\"\n",
    "    Inputs:\n",
    "    - symbols: A list of tuples of the form (char,prob).\n",
    "    - Huffman_code: a dictionary containing the Huffman codes.Each code is a string\n",
    "    Returns:\n",
    "    - Expected_length: a number represents the expected length of Huffman code\n",
    "    \"\"\"\n",
    "    \n",
    "    # ================================================================ #\n",
    "    # YOUR CODE HERE:\n",
    "    # ================================================================ #\n",
    "    Expected_length = sum(\n",
    "        sym[1]*len(Huffman_code[sym[0]]) \n",
    "        for sym in symbols\n",
    "    )\n",
    "    # ================================================================ #\n",
    "    # END YOUR CODE HERE\n",
    "    # ================================================================ #\n",
    "    return Expected_length\n",
    "\n",
    "Expected_length = compute_expected_length(symbols, Huffman_code)\n",
    "print(\"Expected length of Huffman code:   \", Expected_length)"
   ]
  },
  {
   "cell_type": "code",
   "execution_count": 29,
   "metadata": {},
   "outputs": [
    {
     "name": "stdout",
     "output_type": "stream",
     "text": [
      "Encoded Text:   01111000110100\n"
     ]
    }
   ],
   "source": [
    "#######################################################################################\n",
    "# Encode a text\n",
    "#######################################################################################\n",
    "def encode_text(text, Huffman_code):\n",
    "    \"\"\"\n",
    "    Inputs:\n",
    "    - text: A string containing the text to be encoded.\n",
    "    - Huffman_code: a dictionary containing the Huffman codes.Each code is a string\n",
    "    Returns:\n",
    "    - txt_code: a string represents the code of the input text.\n",
    "    \"\"\"\n",
    "    txt_code = ''\n",
    "    # ================================================================ #\n",
    "    # YOUR CODE HERE:\n",
    "    # ================================================================ #\n",
    "    for char in text:\n",
    "        txt_code += Huffman_code[char]\n",
    "    # ================================================================ #\n",
    "    # END YOUR CODE HERE\n",
    "    # ================================================================ #\n",
    "    return txt_code\n",
    "txt_code = encode_text(text, Huffman_code)\n",
    "print(\"Encoded Text:  \", txt_code) "
   ]
  },
  {
   "cell_type": "code",
   "execution_count": 37,
   "metadata": {},
   "outputs": [
    {
     "name": "stdout",
     "output_type": "stream",
     "text": [
      "Orginal text:    DACDDBCD\n",
      "Decoded Text:    DACDDBCD\n"
     ]
    }
   ],
   "source": [
    "#######################################################################################\n",
    "# Decode a text\n",
    "#######################################################################################\n",
    "def decode_text(txt_code, Huffman_code, symbols):\n",
    "    \"\"\"\n",
    "    Inputs:\n",
    "    -symbols: a list of symbols.\n",
    "    - txt_code: A code of a text encoded by Huffman code as a string.\n",
    "    - Huffman_code: a dictionary containing the Huffman codes. Each code is a string\n",
    "    Returns:\n",
    "    - decoded_text: a string represents the decoded text.\n",
    "    \"\"\"\n",
    "    decoded_text = ''\n",
    "    # ================================================================ #\n",
    "    # YOUR CODE HERE:\n",
    "    # ================================================================ #\n",
    "    Huffman_inverse = {b: a for a, b in Huffman_code.items()}\n",
    "    txt_code = [*txt_code]\n",
    "    temp_cw = ''\n",
    "    while txt_code:\n",
    "        temp_cw += txt_code.pop(0)\n",
    "        temp_char = Huffman_inverse.get(temp_cw, None)\n",
    "        if temp_char is not None:\n",
    "            decoded_text+= temp_char\n",
    "            temp_cw = ''\n",
    "\n",
    "    # ================================================================ #\n",
    "    # END YOUR CODE HERE\n",
    "    # ================================================================ #\n",
    "    return decoded_text\n",
    "\n",
    "decoded_text = decode_text(txt_code, Huffman_code, symbols)  \n",
    "print(\"Orginal text:   \", text)      \n",
    "print(\"Decoded Text:   \", decoded_text)"
   ]
  },
  {
   "cell_type": "markdown",
   "metadata": {},
   "source": [
    "## Part 2: Arithmetic Codes"
   ]
  },
  {
   "cell_type": "code",
   "execution_count": null,
   "metadata": {},
   "outputs": [],
   "source": [
    "#######################################################################################\n",
    "# Compute the expected length of the Huffman code\n",
    "#######################################################################################\n",
    "def compute_CDF(symbols):\n",
    "    \"\"\"\n",
    "    Inputs:\n",
    "    - symbols: A list of tuples of the form (char,prob).\n",
    "    Returns:\n",
    "    - CDF_symbols: A list of tuples of the form (char,CDF)\n",
    "    \"\"\"\n",
    "    CDF_symbols = []\n",
    "    # ================================================================ #\n",
    "    # YOUR CODE HERE:\n",
    "    # ================================================================ #\n",
    "\n",
    "    # ================================================================ #\n",
    "    # END YOUR CODE HERE\n",
    "    # ================================================================ #\n",
    "    return CDF_symbols\n",
    "\n",
    "CDF_symbols = compute_CDF(symbols)\n",
    "print(CDF_symbols)"
   ]
  },
  {
   "cell_type": "code",
   "execution_count": null,
   "metadata": {},
   "outputs": [],
   "source": [
    "###########################################################################\n",
    "# Decimal encoding\n",
    "###########################################################################\n",
    "def decimal_encoding(text,CDF_symbols) :\n",
    "    \"\"\"\n",
    "    Inputs:\n",
    "    - text: A string containing the text to be encoded.\n",
    "    Returns:\n",
    "    - lower: the lower value of the interval of the encoded text.\n",
    "    - upper: the upper value of the interval of the encoded text.\n",
    "    \"\"\"\n",
    "    lower = 0 \n",
    "    upper = 1\n",
    "    # ================================================================ #\n",
    "    # YOUR CODE HERE:\n",
    "    # ================================================================ #\n",
    "    for c in text:\n",
    "    # ================================================================ #\n",
    "    # END YOUR CODE HERE\n",
    "    # ================================================================ #\n",
    "    return lower, upper\n",
    "\n",
    "lower,upper = decimal_encoding(text,CDF_symbols)\n",
    "print(\"Interval representing the text is:  \", lower, upper)"
   ]
  },
  {
   "cell_type": "code",
   "execution_count": null,
   "metadata": {},
   "outputs": [],
   "source": [
    "###########################################################################\n",
    "# Binary encoding\n",
    "###########################################################################\n",
    "def Arithmetic_encoding(lower,upper):\n",
    "    \"\"\"\n",
    "    Inputs:\n",
    "    - lower: the lower value of the interval of the encoded text.\n",
    "    - upper: the upper value of the interval of the encoded text.\n",
    "    Returns:\n",
    "    - txt_code: a string represents the code of the input text.\n",
    "    \"\"\"\n",
    "    txt_code = ''\n",
    "    # ================================================================ #\n",
    "    # YOUR CODE HERE:\n",
    "    # ================================================================ #\n",
    "\n",
    "    # ================================================================ #\n",
    "    # END YOUR CODE HERE\n",
    "    # ================================================================ #\n",
    "    return txt_code\n",
    "\n",
    "txt_code = Arithmetic_encoding(lower,upper)\n",
    "print(\"Encoded Text:  \", txt_code)\n",
    "Expected_length_Arithematic = len(txt_code)/len(text)\n",
    "print(\"Expected length of Arithematic code:   \", Expected_length_Arithematic)"
   ]
  },
  {
   "cell_type": "code",
   "execution_count": null,
   "metadata": {},
   "outputs": [],
   "source": [
    "###########################################################################\n",
    "# Binary Decoding\n",
    "###########################################################################\n",
    "def decimal_decoding(txt_code):\n",
    "    \"\"\"\n",
    "    Inputs:\n",
    "    - txt_code: a string of zeros and ones represents the code of the input text.\n",
    "    Returns:\n",
    "    - decoded_val: a real number between 0 and 1.\n",
    "    \"\"\"\n",
    "    decoded_val = 0\n",
    "    # ================================================================ #\n",
    "    # YOUR CODE HERE:\n",
    "    # ================================================================ #\n",
    "\n",
    "    # ================================================================ #\n",
    "    # END YOUR CODE HERE\n",
    "    # ================================================================ #\n",
    "    return decoded_val\n",
    "\n",
    "decoded_val = decimal_decoding(txt_code)\n",
    "print(\"The decoded Value:  \", decoded_val)"
   ]
  },
  {
   "cell_type": "code",
   "execution_count": null,
   "metadata": {},
   "outputs": [],
   "source": [
    "###########################################################################\n",
    "# Arithmetic Decoding\n",
    "###########################################################################\n",
    "def Arithmetic_decode(decoded_val,CDF_symbols, n):\n",
    "    \"\"\"\n",
    "    Inputs:\n",
    "    - decoded_val: A real number between 0 and 1 represents the mid-point of the interval of the encoded text.\n",
    "    - CDF_symbols: A list containing the symbols and their corresponding CDF\n",
    "    - n: number of symbols to be decoded\n",
    "    Returns:\n",
    "    - decoded_text: a string containing the decoded text.\n",
    "    \"\"\"\n",
    "    decoded_text = ''\n",
    "    # ================================================================ #\n",
    "    # YOUR CODE HERE:\n",
    "    # ================================================================ #\n",
    "\n",
    "    # ================================================================ #\n",
    "    # END YOUR CODE HERE\n",
    "    # ================================================================ #\n",
    "    return decoded_text\n",
    "\n",
    "decoded_text = Arithmetic_decode(decoded_val,CDF_symbols, len(text))\n",
    "print(\"Orginal text:   \", text)      \n",
    "print(\"Decoded Text:   \", decoded_text)"
   ]
  }
 ],
 "metadata": {
  "kernelspec": {
   "display_name": "Python 3.9.12 ('base')",
   "language": "python",
   "name": "python3"
  },
  "language_info": {
   "codemirror_mode": {
    "name": "ipython",
    "version": 3
   },
   "file_extension": ".py",
   "mimetype": "text/x-python",
   "name": "python",
   "nbconvert_exporter": "python",
   "pygments_lexer": "ipython3",
   "version": "3.9.12"
  },
  "vscode": {
   "interpreter": {
    "hash": "ad2bdc8ecc057115af97d19610ffacc2b4e99fae6737bb82f5d7fb13d2f2c186"
   }
  }
 },
 "nbformat": 4,
 "nbformat_minor": 2
}
