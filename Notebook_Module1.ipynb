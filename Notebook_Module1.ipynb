{
 "cells": [
  {
   "cell_type": "markdown",
   "metadata": {},
   "source": [
    "## MSOL ECE 231A : Data Compression Project Module 1\n",
    "\n",
    "Please follow our instructions in the same order and print out the entire results and codes when completed."
   ]
  },
  {
   "cell_type": "code",
   "execution_count": 3,
   "metadata": {},
   "outputs": [],
   "source": [
    "import numpy as np\n",
    "import matplotlib.pyplot as plt\n",
    "import csv\n",
    "from collections import Counter"
   ]
  },
  {
   "cell_type": "code",
   "execution_count": 4,
   "metadata": {},
   "outputs": [],
   "source": [
    "##########################################################################################\n",
    "# Read Text file\n",
    "##########################################################################################\n",
    "f = open(\"toy_example.txt\", \"r\")\n",
    "text = f.read()"
   ]
  },
  {
   "cell_type": "code",
   "execution_count": 13,
   "metadata": {},
   "outputs": [
    {
     "name": "stdout",
     "output_type": "stream",
     "text": [
      "[('D', 0.5), ('A', 0.125), ('C', 0.25), ('B', 0.125)]\n"
     ]
    }
   ],
   "source": [
    "##########################################################################################\n",
    "# Compute the empirical distribution\n",
    "##########################################################################################\n",
    "def compute_distribution(text):\n",
    "    \"\"\"\n",
    "    Inputs:\n",
    "    - text: A string containing the text to be encoded.\n",
    "    \n",
    "    Returns:\n",
    "    - symbols: a list of tuples of the form (char,prob), where char is a character appears in the text \n",
    "               and prob is the number of times this character appeared in text divided by the length of text.\n",
    "    \"\"\"\n",
    "    # ================================================================ #\n",
    "    # YOUR CODE HERE:\n",
    "    # ================================================================ #\n",
    "    counts = Counter(text)\n",
    "    n_chars = len(text)\n",
    "    symbols = [(char, count / n_chars) for char, count in counts.items()]\n",
    "    # ================================================================ #\n",
    "    # END YOUR CODE HERE\n",
    "    # ================================================================ #  \n",
    "    return symbols\n",
    "\n",
    "symbols = compute_distribution(text)\n",
    "size_symbols = len(symbols)\n",
    "print(symbols)\n"
   ]
  },
  {
   "cell_type": "markdown",
   "metadata": {},
   "source": [
    "## Part 1: Binary Huffman Codes"
   ]
  },
  {
   "cell_type": "code",
   "execution_count": null,
   "metadata": {},
   "outputs": [],
   "source": [
    "########################################################################################\n",
    "# Draw the tree for the Huffman code \n",
    "########################################################################################\n",
    "def Huffman_tree(symbols):\n",
    "    \"\"\"\n",
    "    Inputs:\n",
    "    - symbols: a list of tuples of the form (char,prob), where char is a character appears in the text \n",
    "               and prob is the number of times this character appeared in text divided by the length of text.\n",
    "    \n",
    "    Returns:\n",
    "    - tree: a list of a single element that have probability one. at each iteration sort your list according \n",
    "            to their probabilities and combine the first two elements as a single element  \n",
    "    \"\"\"\n",
    "    # ================================================================ #\n",
    "    # YOUR CODE HERE:\n",
    "    # ================================================================ #\n",
    "    tree = symbols\n",
    "    # ================================================================ #\n",
    "    # END YOUR CODE HERE\n",
    "    # ================================================================ #\n",
    "    return tree\n",
    "\n",
    "tree = Huffman_tree(symbols)   \n",
    "print(tree[0][0])"
   ]
  },
  {
   "cell_type": "code",
   "execution_count": null,
   "metadata": {},
   "outputs": [],
   "source": [
    "#######################################################################################\n",
    "#Encode the Huffman Tree\n",
    "#######################################################################################\n",
    "def Huffman_coding(seq, code=''):\n",
    "    \"\"\"\n",
    "    Inputs:\n",
    "    - seq: a tuple of characters.\n",
    "    - code: the code of this tuple\n",
    "    Returns:\n",
    "    - Dictionary: a dictionary containing the Huffman codes.  \n",
    "    \"\"\"\n",
    "    if type(seq) is str:\n",
    "        return {seq : code}\n",
    "    Dictionary = dict()\n",
    "    # ================================================================ #\n",
    "    # YOUR CODE HERE:\n",
    "    # ================================================================ #\n",
    " \n",
    "    # ================================================================ #\n",
    "    # END YOUR CODE HERE\n",
    "    # ================================================================ #\n",
    "    return Dictionary\n",
    "\n",
    "Huffman_code = Huffman_coding(tree[0][0])\n",
    "print(\"Huffman CodeBook:  \", Huffman_code)"
   ]
  },
  {
   "cell_type": "code",
   "execution_count": null,
   "metadata": {},
   "outputs": [],
   "source": [
    "#######################################################################################\n",
    "# Compute the expected length of the Huffman code\n",
    "#######################################################################################\n",
    "def compute_expected_length(symbols, Huffman_code):\n",
    "    \"\"\"\n",
    "    Inputs:\n",
    "    - symbols: A list of tuples of the form (char,prob).\n",
    "    - Huffman_code: a dictionary containing the Huffman codes.Each code is a string\n",
    "    Returns:\n",
    "    - Expected_length: a number represents the expected length of Huffman code\n",
    "    \"\"\"\n",
    "    \n",
    "    # ================================================================ #\n",
    "    # YOUR CODE HERE:\n",
    "    # ================================================================ #\n",
    "\n",
    "    # ================================================================ #\n",
    "    # END YOUR CODE HERE\n",
    "    # ================================================================ #\n",
    "    return Expected_length\n",
    "\n",
    "Expected_length = compute_expected_length(symbols, Huffman_code)\n",
    "print(\"Expected length of Huffman code:   \", Expected_length)"
   ]
  },
  {
   "cell_type": "code",
   "execution_count": null,
   "metadata": {},
   "outputs": [],
   "source": [
    "#######################################################################################\n",
    "# Encode a text\n",
    "#######################################################################################\n",
    "def encode_text(text, Huffman_code):\n",
    "    \"\"\"\n",
    "    Inputs:\n",
    "    - text: A string containing the text to be encoded.\n",
    "    - Huffman_code: a dictionary containing the Huffman codes.Each code is a string\n",
    "    Returns:\n",
    "    - txt_code: a string represents the code of the input text.\n",
    "    \"\"\"\n",
    "    txt_code = ''\n",
    "    # ================================================================ #\n",
    "    # YOUR CODE HERE:\n",
    "    # ================================================================ #\n",
    "\n",
    "    # ================================================================ #\n",
    "    # END YOUR CODE HERE\n",
    "    # ================================================================ #\n",
    "    return txt_code\n",
    "txt_code = encode_text(text, Huffman_code)\n",
    "print(\"Encoded Text:  \", txt_code) "
   ]
  },
  {
   "cell_type": "code",
   "execution_count": null,
   "metadata": {},
   "outputs": [],
   "source": [
    "#######################################################################################\n",
    "# Decode a text\n",
    "#######################################################################################\n",
    "def decode_text(txt_code, Huffman_code, symbols):\n",
    "    \"\"\"\n",
    "    Inputs:\n",
    "    -symbols: a list of symbols.\n",
    "    - txt_code: A code of a text encoded by Huffman code as a string.\n",
    "    - Huffman_code: a dictionary containing the Huffman codes. Each code is a string\n",
    "    Returns:\n",
    "    - decoded_text: a string represents the decoded text.\n",
    "    \"\"\"\n",
    "    decoded_text = ''\n",
    "    # ================================================================ #\n",
    "    # YOUR CODE HERE:\n",
    "    # ================================================================ #\n",
    "\n",
    "    # ================================================================ #\n",
    "    # END YOUR CODE HERE\n",
    "    # ================================================================ #\n",
    "    return decoded_text\n",
    "\n",
    "decoded_text = decode_text(txt_code, Huffman_code, symbols)  \n",
    "print(\"Orginal text:   \", text)      \n",
    "print(\"Decoded Text:   \", decoded_text)"
   ]
  },
  {
   "cell_type": "markdown",
   "metadata": {},
   "source": [
    "## Part 2: Arithmetic Codes"
   ]
  },
  {
   "cell_type": "code",
   "execution_count": 16,
   "metadata": {},
   "outputs": [
    {
     "name": "stdout",
     "output_type": "stream",
     "text": [
      "[('A', 0.125), ('B', 0.25), ('C', 0.5), ('D', 1.0)]\n"
     ]
    }
   ],
   "source": [
    "#######################################################################################\n",
    "# Compute the expected length of the Huffman code\n",
    "#######################################################################################\n",
    "def compute_CDF(symbols):\n",
    "    \"\"\"\n",
    "    Inputs:\n",
    "    - symbols: A list of tuples of the form (char,prob).\n",
    "    Returns:\n",
    "    - CDF_symbols: A list of tuples of the form (char,CDF)\n",
    "    \"\"\"\n",
    "    CDF_symbols = []\n",
    "    # ================================================================ #\n",
    "    # YOUR CODE HERE:\n",
    "    # ================================================================ #\n",
    "    cdf = 0\n",
    "    symbols.sort(key=lambda x: x[1])\n",
    "    for sym, prob in symbols:\n",
    "        cdf += prob\n",
    "        CDF_symbols.append((sym, cdf))\n",
    "    # ================================================================ #\n",
    "    # END YOUR CODE HERE\n",
    "    # ================================================================ #\n",
    "    return CDF_symbols\n",
    "\n",
    "CDF_symbols = compute_CDF(symbols)\n",
    "print(CDF_symbols)"
   ]
  },
  {
   "cell_type": "code",
   "execution_count": 43,
   "metadata": {},
   "outputs": [
    {
     "name": "stdout",
     "output_type": "stream",
     "text": [
      "DACDDBCD\n",
      "0.52801513671875 0.528076171875\n",
      "[('A', 0.125), ('B', 0.25), ('C', 0.5), ('D', 1.0)]\n"
     ]
    }
   ],
   "source": [
    "print(text)\n",
    "print(lower, upper)\n",
    "print(CDF_symbols)"
   ]
  },
  {
   "cell_type": "code",
   "execution_count": 234,
   "metadata": {},
   "outputs": [
    {
     "name": "stdout",
     "output_type": "stream",
     "text": [
      "Encoded Text:   00101011\n",
      "Expected length of Arithematic code:    1.0\n"
     ]
    }
   ],
   "source": [
    "###########################################################################\n",
    "# Binary encoding\n",
    "###########################################################################\n",
    "def Arithmetic_encoding(lower, upper):\n",
    "    \"\"\"\n",
    "    Inputs:\n",
    "    - lower: the lower value of the interval of the encoded text.\n",
    "    - upper: the upper value of the interval of the encoded text.\n",
    "    Returns:\n",
    "    - txt_code: a string represents the code of the input text.\n",
    "    \"\"\"\n",
    "    txt_code = ''\n",
    "    # ================================================================ #\n",
    "    # YOUR CODE HERE:\n",
    "    # ================================================================ #\n",
    "    \n",
    "    n_bits = int(np.ceil(- np.log2(upper - lower))) + 1\n",
    "    midpoint = (upper + lower) / 2\n",
    "    for _ in range(n_bits):\n",
    "        if midpoint < 0.5:\n",
    "            txt_code += '0'\n",
    "        else:\n",
    "            txt_code += '1'\n",
    "            midpoint -= 0.5\n",
    "        midpoint *= 2.\n",
    "        \n",
    "    # ================================================================ #\n",
    "    # END YOUR CODE HERE\n",
    "    # ================================================================ #\n",
    "    return txt_code\n",
    "\n",
    "\n",
    "txt_code = Arithmetic_encoding(lower,upper)\n",
    "print(\"Encoded Text:  \", txt_code)\n",
    "Expected_length_Arithematic = len(txt_code)/len(text)\n",
    "print(\"Expected length of Arithematic code:   \", Expected_length_Arithematic)"
   ]
  },
  {
   "cell_type": "code",
   "execution_count": 235,
   "metadata": {},
   "outputs": [
    {
     "name": "stdout",
     "output_type": "stream",
     "text": [
      "The decoded Value:   0.16796875\n"
     ]
    }
   ],
   "source": [
    "###########################################################################\n",
    "# Binary Decoding\n",
    "###########################################################################\n",
    "def decimal_decoding(txt_code):\n",
    "    \"\"\"\n",
    "    Inputs:\n",
    "    - txt_code: a string of zeros and ones represents the code of the input text.\n",
    "    Returns:\n",
    "    - decoded_val: a real number between 0 and 1.\n",
    "    \"\"\"\n",
    "    decoded_val = 0\n",
    "    # ================================================================ #\n",
    "    # YOUR CODE HERE:\n",
    "    # ================================================================ #\n",
    "    \n",
    "    for ii, char in enumerate(txt_code):\n",
    "        if char == '1':\n",
    "            decoded_val += 2**-(ii+1)\n",
    "\n",
    "    # ================================================================ #\n",
    "    # END YOUR CODE HERE\n",
    "    # ================================================================ #\n",
    "    return decoded_val\n",
    "\n",
    "decoded_val = decimal_decoding(txt_code)\n",
    "print(\"The decoded Value:  \", decoded_val)"
   ]
  },
  {
   "cell_type": "code",
   "execution_count": 236,
   "metadata": {},
   "outputs": [
    {
     "name": "stdout",
     "output_type": "stream",
     "text": [
      "DACDDBCD\n",
      "Interval representing the text is:   0.52801513671875 0.528076171875\n"
     ]
    }
   ],
   "source": [
    "###########################################################################\n",
    "# Decimal encoding\n",
    "###########################################################################\n",
    "def decimal_encoding(text,CDF_symbols) :\n",
    "    \"\"\"\n",
    "    Inputs:\n",
    "    - text: A string containing the text to be encoded.\n",
    "    Returns:\n",
    "    - lower: the lower value of the interval of the encoded text.\n",
    "    - upper: the upper value of the interval of the encoded text.\n",
    "    \"\"\"\n",
    "    lower = 0 \n",
    "    upper = 1\n",
    "    \n",
    "    # ================================================================ #\n",
    "    # YOUR CODE HERE:\n",
    "    # ================================================================ #\n",
    "    def get_prob(char):\n",
    "        prev_prob = 0\n",
    "        for next_char, next_prob in CDF_symbols:\n",
    "            if next_char==char:\n",
    "                return prev_prob, next_prob\n",
    "            else:\n",
    "                prev_prob = next_prob\n",
    "        \n",
    "    for c in text:\n",
    "        interval = upper - lower\n",
    "        lp, up = get_prob(c)\n",
    "        upper = lower + interval * up\n",
    "        lower = lower + interval * lp\n",
    "        \n",
    "    assert lower <= upper\n",
    "    # ================================================================ #\n",
    "    # END YOUR CODE HERE\n",
    "    # ================================================================ #\n",
    "    return lower, upper\n",
    "\n",
    "lower,upper = decimal_encoding(text,CDF_symbols)\n",
    "print(text)\n",
    "print(\"Interval representing the text is:  \", lower, upper)"
   ]
  },
  {
   "cell_type": "code",
   "execution_count": 237,
   "metadata": {},
   "outputs": [
    {
     "name": "stdout",
     "output_type": "stream",
     "text": [
      "0.16796875\n",
      "\n",
      "Orginal text:    BCC\n",
      "Decoded Text:    BCCDAAAA\n"
     ]
    }
   ],
   "source": [
    "###########################################################################\n",
    "# Arithmetic Decoding\n",
    "###########################################################################\n",
    "def Arithmetic_decode(decoded_val,CDF_symbols, n):\n",
    "    \"\"\"\n",
    "    Inputs:\n",
    "    - decoded_val: A real number between 0 and 1 represents the mid-point of the interval of the encoded text.\n",
    "    - CDF_symbols: A list containing the symbols and their corresponding CDF\n",
    "    - n: number of symbols to be decoded\n",
    "    Returns:\n",
    "    - decoded_text: a string containing the decoded text.\n",
    "    \"\"\"\n",
    "    decoded_text = ''\n",
    "    # ================================================================ #\n",
    "    # YOUR CODE HERE:\n",
    "    # ================================================================ #\n",
    "    def get_char(val):\n",
    "        prev_char = ''\n",
    "        prev_cdf = 0\n",
    "        for char, cdf in CDF_symbols:\n",
    "            if val >= cdf:\n",
    "                prev_char = char\n",
    "                prev_cdf = cdf\n",
    "            else:\n",
    "                return char, prev_cdf, cdf\n",
    "                \n",
    "                \n",
    "            \n",
    "    for _ in range(n):\n",
    "        char, left, right = get_char(decoded_val)\n",
    "        decoded_text += char\n",
    "        decoded_val -= left\n",
    "        decoded_val /= right - left\n",
    "        \n",
    "    # ================================================================ #\n",
    "    # END YOUR CODE HERE\n",
    "    # ================================================================ #\n",
    "    return decoded_text\n",
    "\n",
    "print(decoded_val)\n",
    "print()\n",
    "decoded_text = Arithmetic_decode(decoded_val,CDF_symbols, len(text))\n",
    "print(\"Orginal text:   \", string)      \n",
    "print(\"Decoded Text:   \", decoded_text)"
   ]
  },
  {
   "cell_type": "markdown",
   "metadata": {},
   "source": [
    "# Testing"
   ]
  },
  {
   "cell_type": "code",
   "execution_count": 245,
   "metadata": {},
   "outputs": [
    {
     "name": "stdout",
     "output_type": "stream",
     "text": [
      "ABDBCDADDACB\n",
      "Decimal encoding\n",
      "0.02479185163974762 0.024791866540908813\n",
      "0.024791859090328217\n",
      "\n",
      "arithmetic_encoding\n",
      "000001100101100011000010011\n",
      "\n",
      "decimal decoding\n",
      "0.024791859090328217\n",
      "\n",
      "arithmetic decoding\n",
      "ABDBCDADDACB\n"
     ]
    }
   ],
   "source": [
    "from random import choice\n",
    "alphabet = 'ABCD'\n",
    "max_length=2\n",
    "lengths = list(range(max_length))\n",
    "\n",
    "string_length = choice(lengths)\n",
    "string_length = 12\n",
    "string = ''.join(choice(alphabet) for _ in range(string_length))\n",
    "# string = 'AD'\n",
    "print(string)\n",
    "\n",
    "print('Decimal encoding')\n",
    "lower, upper = decimal_encoding(string, CDF_symbols)\n",
    "print(lower, upper)\n",
    "print(upper / 2 + lower / 2)\n",
    "\n",
    "print()\n",
    "print('arithmetic_encoding')\n",
    "txt_code = Arithmetic_encoding(lower, upper)\n",
    "print(txt_code)\n",
    "\n",
    "print()\n",
    "print('decimal decoding')\n",
    "decoded_val = decimal_decoding(txt_code)\n",
    "print(decoded_val)\n",
    "print()\n",
    "print('arithmetic decoding')\n",
    "decoded_text = Arithmetic_decode(decoded_val, CDF_symbols, len(string))\n",
    "\n",
    "print(decoded_text)\n",
    "assert string==decoded_text"
   ]
  },
  {
   "cell_type": "code",
   "execution_count": null,
   "metadata": {},
   "outputs": [],
   "source": []
  }
 ],
 "metadata": {
  "kernelspec": {
   "display_name": "Python 3",
   "language": "python",
   "name": "python3"
  },
  "language_info": {
   "codemirror_mode": {
    "name": "ipython",
    "version": 3
   },
   "file_extension": ".py",
   "mimetype": "text/x-python",
   "name": "python",
   "nbconvert_exporter": "python",
   "pygments_lexer": "ipython3",
   "version": "3.8.5"
  }
 },
 "nbformat": 4,
 "nbformat_minor": 2
}
